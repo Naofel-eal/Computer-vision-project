{
 "cells": [
  {
   "cell_type": "markdown",
   "metadata": {},
   "source": [
    "# Classifier tests"
   ]
  },
  {
   "cell_type": "code",
   "execution_count": 12,
   "metadata": {},
   "outputs": [
    {
     "name": "stdout",
     "output_type": "stream",
     "text": [
      "Face detector warmed up.\n"
     ]
    }
   ],
   "source": [
    "import os\n",
    "import cv2\n",
    "import random\n",
    "import numpy as np\n",
    "from ultralytics import YOLO\n",
    "from deepface import DeepFace\n",
    "from matplotlib import pyplot as plt\n",
    "current_dir = os.getcwd()\n",
    "new_dir = current_dir.replace(\"\\\\tests\", \"\")\n",
    "os.chdir(new_dir)\n",
    "from services.face_detector import FaceDetector\n",
    "from services.image_editor import ImageEditor\n",
    "\n",
    "model = YOLO(\"weights/yolov8_classification_model.pt\").to(\"cuda\")\n",
    "face_detector = FaceDetector()"
   ]
  },
  {
   "cell_type": "code",
   "execution_count": 66,
   "metadata": {},
   "outputs": [],
   "source": [
    "def random_image(root):\n",
    "    images_paths = []\n",
    "\n",
    "    for root, _, files in os.walk(root):\n",
    "        for file in files:\n",
    "            images_paths.append(os.path.join(root, file))\n",
    "\n",
    "    return random.choice(images_paths) if images_paths else None\n",
    "\n",
    "def get_random_face_path(person_name):\n",
    "    root_dir = \"training\\\\classifier\\\\dataset\\\\train\"\n",
    "    person_dir = os.path.join(root_dir, person_name)\n",
    "    if not os.path.exists(person_dir):\n",
    "        return \"Person directory does not exist.\"\n",
    "\n",
    "    images = os.listdir(person_dir)\n",
    "    if not images:\n",
    "        return \"No images found for the person.\"\n",
    "\n",
    "    random_image = random.choice(images)\n",
    "    return os.path.join(person_dir, random_image)\n",
    "\n",
    "def cosine_distance(features1, features2) -> float:\n",
    "    a = np.matmul(np.transpose(features1), features2)\n",
    "    b = np.sum(np.multiply(features1, features1))\n",
    "    c = np.sum(np.multiply(features2, features2))\n",
    "    return 1 - (a / (np.sqrt(b) * np.sqrt(c)))\n",
    "\n",
    "def get_person_median_distance(person_folder_path):\n",
    "    compared_pairs = set()\n",
    "    distances: [float] = []\n",
    "    name = person_folder_path.replace(\"\\\\\", \"/\").rpartition(\"/\")[-1]\n",
    "\n",
    "    if os.path.isdir(person_folder_path):\n",
    "        for image1 in os.listdir(person_folder_path):\n",
    "            for image2 in os.listdir(person_folder_path):\n",
    "                pair = tuple(sorted([image1, image2]))\n",
    "                if pair not in compared_pairs and image1 != image2:\n",
    "                    is_compared, dst = compare(os.path.join(person_folder_path, image1), os.path.join(person_folder_path, image2))\n",
    "                    if is_compared:\n",
    "                        print(\"{}: Comparison {} and {}: dst {}\".format(name, image1, image2, dst))\n",
    "                        distances.append(dst)\n",
    "                        compared_pairs.add(pair)\n",
    "    \n",
    "    distances.sort()\n",
    "    median = distances[len(distances) // 2]\n",
    "    return median\n",
    "\n",
    "def compare(image1_path, image2_path):\n",
    "    img1 = cv2.cvtColor(cv2.imread(image1_path), cv2.COLOR_BGR2RGB)\n",
    "    img2 = cv2.cvtColor(cv2.imread(image2_path), cv2.COLOR_BGR2RGB)\n",
    "    pred1 = face_detector.detect(img1)\n",
    "    pred2 = face_detector.detect(img2)\n",
    "    if len(pred1) == 0 or len(pred2) == 0:\n",
    "        return False, 0\n",
    "    img1 = ImageEditor.crop(img1, pred1[0].bounding_box)\n",
    "    img2 = ImageEditor.crop(img2, pred2[0].bounding_box)\n",
    "    features1 = model.predict(img1, verbose=False)[0].cpu().tolist()\n",
    "    features2 = model.predict(img2, verbose=False)[0].cpu().tolist()\n",
    "    return True, cosine_distance(features1, features2)"
   ]
  },
  {
   "cell_type": "code",
   "execution_count": null,
   "metadata": {},
   "outputs": [],
   "source": [
    "aj1_path = get_random_face_path(\"Angelina Jolie\")\n",
    "aj2_path = get_random_face_path(\"Angelina Jolie\")\n",
    "\n",
    "bp1_path = get_random_face_path(\"Brad Pitt\")\n",
    "bp2_path = get_random_face_path(\"Brad Pitt\")\n",
    "\n",
    "hj1_path = get_random_face_path(\"Hugh Jackman\")\n",
    "hj2_path = get_random_face_path(\"Hugh Jackman\")\n",
    "\n",
    "aj1 = cv2.cvtColor(cv2.imread(aj1_path), cv2.COLOR_BGR2RGB)\n",
    "aj2 = cv2.cvtColor(cv2.imread(aj2_path), cv2.COLOR_BGR2RGB)\n",
    "bp1 = cv2.cvtColor(cv2.imread(bp1_path), cv2.COLOR_BGR2RGB)\n",
    "bp2 = cv2.cvtColor(cv2.imread(bp2_path), cv2.COLOR_BGR2RGB)\n",
    "hj1 = cv2.cvtColor(cv2.imread(hj1_path), cv2.COLOR_BGR2RGB)\n",
    "hj2 = cv2.cvtColor(cv2.imread(hj2_path), cv2.COLOR_BGR2RGB)\n",
    "\n",
    "aj1 = ImageEditor.crop(aj1, face_detector.detect(aj1)[0].bounding_box)\n",
    "aj2 = ImageEditor.crop(aj2, face_detector.detect(aj2)[0].bounding_box)\n",
    "bp1 = ImageEditor.crop(bp1, face_detector.detect(bp1)[0].bounding_box)\n",
    "bp2 = ImageEditor.crop(bp2, face_detector.detect(bp2)[0].bounding_box)\n",
    "hj1 = ImageEditor.crop(hj1, face_detector.detect(hj1)[0].bounding_box)\n",
    "hj2 = ImageEditor.crop(hj2, face_detector.detect(hj2)[0].bounding_box)\n",
    "\n",
    "tested_image_1 = aj1\n",
    "tested_image_2 = hj1\n",
    "\n",
    "plt.subplot(1, 2, 1)\n",
    "plt.imshow(tested_image_1)\n",
    "plt.subplot(1, 2, 2)\n",
    "plt.imshow(tested_image_2)\n",
    "plt.show()\n",
    "\n",
    "features1 = model.predict(tested_image_1, verbose=False)\n",
    "features2 = model.predict(tested_image_2, verbose=False)\n",
    "\n",
    "df1_embedding = DeepFace.represent(\n",
    "                img_path=tested_image_1,\n",
    "                model_name=\"VGG-Face\",\n",
    "                enforce_detection=False,\n",
    "                detector_backend=\"skip\",\n",
    "                align=True,\n",
    "                normalization=\"base\",\n",
    "            )\n",
    "df2_embedding = DeepFace.represent(\n",
    "                img_path=tested_image_2,\n",
    "                model_name=\"VGG-Face\",\n",
    "                enforce_detection=False,\n",
    "                detector_backend=\"skip\",\n",
    "                align=True,\n",
    "                normalization=\"base\",\n",
    "            )\n",
    "\n",
    "img1_representation = df1_embedding[0][\"embedding\"]\n",
    "img2_representation = df2_embedding[0][\"embedding\"]\n",
    "\n",
    "features1_list = features1[0].cpu().tolist()\n",
    "features2_list = features2[0].cpu().tolist()\n",
    "\n",
    "res = cosine_distance(features1_list, features2_list)\n",
    "res2 = cosine_distance(img1_representation, img2_representation)\n",
    "print(\"RGB: Yolov8-cls\", res, \"- DeepFace\", res2)"
   ]
  },
  {
   "cell_type": "markdown",
   "metadata": {},
   "source": [
    "# Get all medians"
   ]
  },
  {
   "cell_type": "code",
   "execution_count": null,
   "metadata": {},
   "outputs": [],
   "source": [
    "distances = []\n",
    "dataset_root = \"training\\\\classifier\\\\dataset\\\\train\"\n",
    "for root, dirs, _ in os.walk(dataset_root):\n",
    "    for dir in dirs:\n",
    "        dst = get_person_median_distance(os.path.join(root, dir))\n",
    "        distances.append([dir, dst])\n",
    "        print(\"Median distance for {}: {}\".format(dir, dst))"
   ]
  },
  {
   "cell_type": "code",
   "execution_count": null,
   "metadata": {},
   "outputs": [],
   "source": [
    "distances.sort(key=lambda x: x[1])\n",
    "average_distance = sum([distance[1] for distance in distances]) / len(distances)\n",
    "mediane = distances[len(distances) // 2][1]\n",
    "\n",
    "print(f\"Average distance: {average_distance} - Median distance: {mediane}\")"
   ]
  }
 ],
 "metadata": {
  "kernelspec": {
   "display_name": ".venv",
   "language": "python",
   "name": "python3"
  },
  "language_info": {
   "codemirror_mode": {
    "name": "ipython",
    "version": 3
   },
   "file_extension": ".py",
   "mimetype": "text/x-python",
   "name": "python",
   "nbconvert_exporter": "python",
   "pygments_lexer": "ipython3",
   "version": "3.9.13"
  }
 },
 "nbformat": 4,
 "nbformat_minor": 2
}
