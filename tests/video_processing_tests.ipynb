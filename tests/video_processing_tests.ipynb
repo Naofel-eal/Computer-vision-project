{
 "cells": [
  {
   "cell_type": "code",
   "execution_count": null,
   "metadata": {},
   "outputs": [],
   "source": [
    "%load_ext autoreload\n",
    "%autoreload 2"
   ]
  },
  {
   "cell_type": "markdown",
   "metadata": {},
   "source": [
    "# Video processing tests"
   ]
  },
  {
   "cell_type": "code",
   "execution_count": null,
   "metadata": {},
   "outputs": [],
   "source": [
    "import os\n",
    "import matplotlib.pyplot as plt\n",
    "current_dir = os.getcwd()\n",
    "new_dir = current_dir.replace(\"\\\\tests\", \"\")\n",
    "os.chdir(new_dir)\n",
    "from services.medias.video_processor import VideoProcessor\n",
    "from DTOs.person_dto import PersonDTO\n",
    "from models.medias.video import Video"
   ]
  },
  {
   "cell_type": "code",
   "execution_count": null,
   "metadata": {},
   "outputs": [],
   "source": [
    "video: Video = Video(\"training/detector/dataset/test/videos/QUI EST L IMPOSTEUR (ft Eric Ramzy).mp4\")\n",
    "video_processor: VideoProcessor = VideoProcessor(video, comparator=\"Yolo\")\n",
    "personsDTO: list[PersonDTO] = video_processor.get_persons()\n",
    "for index, personDTO in enumerate(personsDTO):\n",
    "    plt.suptitle(\"Persons in the video\")\n",
    "    plt.subplot(1, len(personsDTO), index+1)\n",
    "    plt.imshow(personDTO.face)\n",
    "    plt.axis('off')"
   ]
  },
  {
   "cell_type": "code",
   "execution_count": null,
   "metadata": {},
   "outputs": [],
   "source": [
    "personsDTO[1].should_be_blurred = True\n",
    "video_processor.save(personsDTO=personsDTO, output_video_path=\"results/output.mp4\", gradual=False)"
   ]
  }
 ],
 "metadata": {
  "kernelspec": {
   "display_name": "Python 3",
   "language": "python",
   "name": "python3"
  },
  "language_info": {
   "codemirror_mode": {
    "name": "ipython",
    "version": 3
   },
   "file_extension": ".py",
   "mimetype": "text/x-python",
   "name": "python",
   "nbconvert_exporter": "python",
   "pygments_lexer": "ipython3",
   "version": "3.9.13"
  }
 },
 "nbformat": 4,
 "nbformat_minor": 2
}
