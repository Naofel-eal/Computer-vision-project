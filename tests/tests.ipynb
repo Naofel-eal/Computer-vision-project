{
 "cells": [
  {
   "cell_type": "code",
   "execution_count": null,
   "metadata": {},
   "outputs": [],
   "source": [
    "import os\n",
    "import matplotlib.pyplot as plt\n",
    "current_dir = os.getcwd()\n",
    "new_dir = current_dir.replace(\"\\\\tests\", \"\")\n",
    "os.chdir(new_dir)\n",
    "from services.medias.video_processor import VideoProcessor\n",
    "from DTOs.person_dto import PersonDTO\n",
    "from models.medias.video import Video"
   ]
  },
  {
   "cell_type": "code",
   "execution_count": null,
   "metadata": {},
   "outputs": [],
   "source": [
    "video: Video = Video(\"training/datasets/detection/test/videos/QUI EST L IMPOSTEUR (ft Eric Ramzy).mp4\")\n",
    "video_processor: VideoProcessor = VideoProcessor(video)\n",
    "personsDTO: list[PersonDTO] = video_processor.get_persons()\n",
    "for personDTO in personsDTO:\n",
    "    plt.suptitle(\"Persons detected\")\n",
    "    plt.subplot(1, len(personsDTO), personDTO.id+1)\n",
    "    plt.imshow(personDTO.face)\n",
    "    plt.axis('off')"
   ]
  },
  {
   "cell_type": "code",
   "execution_count": null,
   "metadata": {},
   "outputs": [],
   "source": [
    "# Blur\n",
    "\n",
    "for personDTO in personsDTO:\n",
    "    personDTO.should_be_blurred = True\n",
    "video_processor.save(personsDTO=personsDTO, output_video_path=\"results/output.mp4\", gradual=True)"
   ]
  },
  {
   "cell_type": "code",
   "execution_count": 3,
   "metadata": {},
   "outputs": [],
   "source": [
    "import tensorflow as tf"
   ]
  },
  {
   "cell_type": "code",
   "execution_count": 12,
   "metadata": {},
   "outputs": [
    {
     "name": "stdout",
     "output_type": "stream",
     "text": [
      "TensorFlow is using GPU: /device:GPU:0\n"
     ]
    }
   ],
   "source": [
    "if tf.test.gpu_device_name():\n",
    "    print(\"TensorFlow is using GPU:\", tf.test.gpu_device_name())\n",
    "else:\n",
    "    print(\"TensorFlow is using CPU\")"
   ]
  }
 ],
 "metadata": {
  "kernelspec": {
   "display_name": "Python 3",
   "language": "python",
   "name": "python3"
  },
  "language_info": {
   "codemirror_mode": {
    "name": "ipython",
    "version": 3
   },
   "file_extension": ".py",
   "mimetype": "text/x-python",
   "name": "python",
   "nbconvert_exporter": "python",
   "pygments_lexer": "ipython3",
   "version": "3.9.13"
  }
 },
 "nbformat": 4,
 "nbformat_minor": 2
}
