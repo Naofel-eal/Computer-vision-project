{
 "cells": [
  {
   "cell_type": "code",
   "execution_count": 1,
   "metadata": {},
   "outputs": [
    {
     "ename": "ModuleNotFoundError",
     "evalue": "No module named 'services'",
     "output_type": "error",
     "traceback": [
      "\u001b[1;31m---------------------------------------------------------------------------\u001b[0m",
      "\u001b[1;31mModuleNotFoundError\u001b[0m                       Traceback (most recent call last)",
      "\u001b[1;32mc:\\Users\\Naofel\\Documents\\ESIREM\\5A\\Systeme_intelligents_avances\\Brousse\\TP\\training\\scripts\\test.ipynb Cell 1\u001b[0m line \u001b[0;36m1\n\u001b[1;32m----> <a href='vscode-notebook-cell:/c%3A/Users/Naofel/Documents/ESIREM/5A/Systeme_intelligents_avances/Brousse/TP/training/scripts/test.ipynb#W0sZmlsZQ%3D%3D?line=0'>1</a>\u001b[0m \u001b[39mfrom\u001b[39;00m \u001b[39mservices\u001b[39;00m\u001b[39m.\u001b[39;00m\u001b[39mmedias\u001b[39;00m\u001b[39m.\u001b[39;00m\u001b[39mvideo_processor\u001b[39;00m \u001b[39mimport\u001b[39;00m VideoProcessor\n\u001b[0;32m      <a href='vscode-notebook-cell:/c%3A/Users/Naofel/Documents/ESIREM/5A/Systeme_intelligents_avances/Brousse/TP/training/scripts/test.ipynb#W0sZmlsZQ%3D%3D?line=1'>2</a>\u001b[0m \u001b[39mimport\u001b[39;00m \u001b[39mmatplotlib\u001b[39;00m\u001b[39m.\u001b[39;00m\u001b[39mpyplot\u001b[39;00m \u001b[39mas\u001b[39;00m \u001b[39mplt\u001b[39;00m\n\u001b[0;32m      <a href='vscode-notebook-cell:/c%3A/Users/Naofel/Documents/ESIREM/5A/Systeme_intelligents_avances/Brousse/TP/training/scripts/test.ipynb#W0sZmlsZQ%3D%3D?line=2'>3</a>\u001b[0m \u001b[39mfrom\u001b[39;00m \u001b[39mDTOs\u001b[39;00m\u001b[39m.\u001b[39;00m\u001b[39mperson_dto\u001b[39;00m \u001b[39mimport\u001b[39;00m PersonDTO\n",
      "\u001b[1;31mModuleNotFoundError\u001b[0m: No module named 'services'"
     ]
    }
   ],
   "source": [
    "from services.medias.video_processor import VideoProcessor\n",
    "import matplotlib.pyplot as plt\n",
    "from DTOs.person_dto import PersonDTO\n",
    "from models.medias.video import Video"
   ]
  },
  {
   "cell_type": "code",
   "execution_count": null,
   "metadata": {},
   "outputs": [],
   "source": [
    "video: Video = Video(\"training//dataset//test//videos//QUI EST L IMPOSTEUR (ft Eric Ramzy).mp4\")\n",
    "video_processor: VideoProcessor = VideoProcessor(video)\n",
    "personsDTO: list[PersonDTO] = video_processor.get_persons()"
   ]
  },
  {
   "cell_type": "code",
   "execution_count": null,
   "metadata": {},
   "outputs": [],
   "source": [
    "for personDTO in personsDTO:\n",
    "    plt.subplot(1, len(personsDTO), personDTO.id+1)\n",
    "    plt.imshow(personDTO.face)\n",
    "    plt.axis('off')"
   ]
  },
  {
   "cell_type": "code",
   "execution_count": null,
   "metadata": {},
   "outputs": [],
   "source": [
    "personsDTO[1].should_be_blur = True\n",
    "result = video_processor.blur_faces(personsDTO)\n",
    "result.ipython_display()  "
   ]
  }
 ],
 "metadata": {
  "kernelspec": {
   "display_name": "Python 3",
   "language": "python",
   "name": "python3"
  },
  "language_info": {
   "codemirror_mode": {
    "name": "ipython",
    "version": 3
   },
   "file_extension": ".py",
   "mimetype": "text/x-python",
   "name": "python",
   "nbconvert_exporter": "python",
   "pygments_lexer": "ipython3",
   "version": "3.9.13"
  }
 },
 "nbformat": 4,
 "nbformat_minor": 2
}
